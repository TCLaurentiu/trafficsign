{
 "cells": [
  {
   "cell_type": "code",
   "execution_count": 1,
   "metadata": {},
   "outputs": [],
   "source": [
    "import json\n",
    "from tqdm import tqdm, trange"
   ]
  },
  {
   "cell_type": "markdown",
   "metadata": {},
   "source": [
    "The signs we used for some earlier model:"
   ]
  },
  {
   "cell_type": "code",
   "execution_count": 2,
   "metadata": {},
   "outputs": [],
   "source": [
    "final = {0: 'Curve Left',\n",
    " 1: 'Curve Right',\n",
    " 2: 'Speed Bump',\n",
    " 6: 'Pedestrian Crossing Soon',\n",
    " 12: 'Left - Right Curve',\n",
    " 13: 'Right - Left Curve',\n",
    " 22: 'Roundabout Soon',\n",
    " 28: '50m - Railroad',\n",
    " 29: '100m - Railroad',\n",
    " 30: '150m - Railroad',\n",
    " 35: 'Bumpy Road',\n",
    " 37: 'Yield',\n",
    " 43: 'STOP',\n",
    " 50: 'Forbidden For Everything',\n",
    " 51: 'Speed Limit - 10',\n",
    " 52: 'Speed Limit - 30',\n",
    " 53: 'Speed Limit - 40',\n",
    " 54: 'Speed Limit - 50',\n",
    " 55: 'Speed Limit - 60',\n",
    " 56: 'Speed Limit - 70',\n",
    " 59: 'No parking/waiting',\n",
    " 60: 'No stopping',\n",
    " 62: 'No entry',\n",
    " 64: 'Pedestrian Path',\n",
    " 68: 'Proceed Straight',\n",
    " 69: 'Turn Right',\n",
    " 70: 'Turn Left',\n",
    " 71: 'Keep straight or Turn Left',\n",
    " 72: 'Keep Straight or Turn Right',\n",
    " 73: 'Turn Left or Right',\n",
    " 74: 'Pass onto Right',\n",
    " 75: 'Pass Onto Left',\n",
    " 76: 'Roundabout Here',\n",
    " 103: 'End Of No - Overtake',\n",
    " 104: 'End of 40 Limit',\n",
    " 105: 'End of 50 Limit',\n",
    " 106: 'End of 60 Limit',\n",
    " 107: 'End of 70 Limit',\n",
    " 112: 'End of All Restrictions',\n",
    " 116: 'No Stopping Zone',\n",
    " 117: '30km Limit Zone',\n",
    " 118: '40km Limit Zone',\n",
    " 119: 'Priority Road',\n",
    " 120: 'End of 30km Limit Zone',\n",
    " 123: 'Parking',\n",
    " 132: 'Bicycle Crossing',\n",
    " 135: 'Info',\n",
    " 136: 'Pedestrian Crossing',\n",
    " 157: 'Disabilities',\n",
    " 158: 'Towing',\n",
    " 159: 'Rain',\n",
    " 160: 'Snow'}"
   ]
  },
  {
   "cell_type": "markdown",
   "metadata": {},
   "source": [
    "Remap in increasing order:"
   ]
  },
  {
   "cell_type": "code",
   "execution_count": 3,
   "metadata": {},
   "outputs": [],
   "source": [
    "mapping = dict()\n",
    "start = 0\n",
    "for key in final:\n",
    "  mapping[key] = start\n",
    "  start += 1"
   ]
  },
  {
   "cell_type": "markdown",
   "metadata": {},
   "source": [
    "Finally obtain a mapping from class id to sign name:"
   ]
  },
  {
   "cell_type": "code",
   "execution_count": 4,
   "metadata": {},
   "outputs": [],
   "source": [
    "final_mapping = {mapping[key]:value for key, value in final.items()}"
   ]
  },
  {
   "cell_type": "code",
   "execution_count": 5,
   "metadata": {},
   "outputs": [
    {
     "data": {
      "text/plain": [
       "{0: 'Curve Left',\n",
       " 1: 'Curve Right',\n",
       " 2: 'Speed Bump',\n",
       " 3: 'Pedestrian Crossing Soon',\n",
       " 4: 'Left - Right Curve',\n",
       " 5: 'Right - Left Curve',\n",
       " 6: 'Roundabout Soon',\n",
       " 7: '50m - Railroad',\n",
       " 8: '100m - Railroad',\n",
       " 9: '150m - Railroad',\n",
       " 10: 'Bumpy Road',\n",
       " 11: 'Yield',\n",
       " 12: 'STOP',\n",
       " 13: 'Forbidden For Everything',\n",
       " 14: 'Speed Limit - 10',\n",
       " 15: 'Speed Limit - 30',\n",
       " 16: 'Speed Limit - 40',\n",
       " 17: 'Speed Limit - 50',\n",
       " 18: 'Speed Limit - 60',\n",
       " 19: 'Speed Limit - 70',\n",
       " 20: 'No parking/waiting',\n",
       " 21: 'No stopping',\n",
       " 22: 'No entry',\n",
       " 23: 'Pedestrian Path',\n",
       " 24: 'Proceed Straight',\n",
       " 25: 'Turn Right',\n",
       " 26: 'Turn Left',\n",
       " 27: 'Keep straight or Turn Left',\n",
       " 28: 'Keep Straight or Turn Right',\n",
       " 29: 'Turn Left or Right',\n",
       " 30: 'Pass onto Right',\n",
       " 31: 'Pass Onto Left',\n",
       " 32: 'Roundabout Here',\n",
       " 33: 'End Of No - Overtake',\n",
       " 34: 'End of 40 Limit',\n",
       " 35: 'End of 50 Limit',\n",
       " 36: 'End of 60 Limit',\n",
       " 37: 'End of 70 Limit',\n",
       " 38: 'End of All Restrictions',\n",
       " 39: 'No Stopping Zone',\n",
       " 40: '30km Limit Zone',\n",
       " 41: '40km Limit Zone',\n",
       " 42: 'Priority Road',\n",
       " 43: 'End of 30km Limit Zone',\n",
       " 44: 'Parking',\n",
       " 45: 'Bicycle Crossing',\n",
       " 46: 'Info',\n",
       " 47: 'Pedestrian Crossing',\n",
       " 48: 'Disabilities',\n",
       " 49: 'Towing',\n",
       " 50: 'Rain',\n",
       " 51: 'Snow'}"
      ]
     },
     "execution_count": 5,
     "metadata": {},
     "output_type": "execute_result"
    }
   ],
   "source": [
    "final_mapping"
   ]
  },
  {
   "cell_type": "markdown",
   "metadata": {},
   "source": [
    "Files with the original dataset annotations:"
   ]
  },
  {
   "cell_type": "code",
   "execution_count": 6,
   "metadata": {},
   "outputs": [],
   "source": [
    "train_difficult_path = \"DFG-tsd-aug-annot-json-with-difficult-samples/train-difficult.json\"\n",
    "test_difficult_path = \"DFG-tsd-annot-json/test.json\""
   ]
  },
  {
   "cell_type": "code",
   "execution_count": 7,
   "metadata": {},
   "outputs": [],
   "source": [
    "with open(train_difficult_path) as file:\n",
    "  train_difficult_json = json.load(file)"
   ]
  },
  {
   "cell_type": "code",
   "execution_count": 8,
   "metadata": {},
   "outputs": [],
   "source": [
    "with open(test_difficult_path) as file:\n",
    "  test_json = json.load(file)"
   ]
  },
  {
   "cell_type": "markdown",
   "metadata": {},
   "source": [
    "The annotation dict that we are building:"
   ]
  },
  {
   "cell_type": "code",
   "execution_count": 9,
   "metadata": {},
   "outputs": [],
   "source": [
    "annotations_dict = {key['id']:{\n",
    "  'name': key['file_name'],\n",
    "  'height': key['height'],\n",
    "  'width': key['width'],\n",
    "  'annotations': []\n",
    "} for key in sorted(train_difficult_json['images'] + test_json['images'], key = lambda image: image['id'])}"
   ]
  },
  {
   "cell_type": "code",
   "execution_count": 10,
   "metadata": {},
   "outputs": [
    {
     "data": {
      "text/plain": [
       "15732"
      ]
     },
     "execution_count": 10,
     "metadata": {},
     "output_type": "execute_result"
    }
   ],
   "source": [
    "len(annotations_dict.keys())"
   ]
  },
  {
   "cell_type": "markdown",
   "metadata": {},
   "source": [
    "Build the annotations dict:"
   ]
  },
  {
   "cell_type": "code",
   "execution_count": 11,
   "metadata": {},
   "outputs": [
    {
     "name": "stderr",
     "output_type": "stream",
     "text": [
      "100%|██████████| 44091/44091 [00:00<00:00, 658105.93it/s]\n"
     ]
    }
   ],
   "source": [
    "for annotation in tqdm(train_difficult_json['annotations']):\n",
    "  image_id = annotation['image_id']\n",
    "  category_id = annotation['category_id']\n",
    "  if category_id not in final:\n",
    "    continue\n",
    "  im_width, im_height = annotations_dict[image_id]['width'], annotations_dict[image_id]['height']\n",
    "  xmin, ymin, width, height = annotation[\"bbox\"]\n",
    "  xcenter, ycenter, width, height = xmin + width/2, ymin + height/2, width, height\n",
    "  xcenter, ycenter, width, height = xcenter / im_width, ycenter / im_height, width / im_width, height / im_height\n",
    "  annotations_dict[image_id]['annotations'].append({\n",
    "    'xcenter': xcenter,\n",
    "    'ycenter': ycenter,\n",
    "    'width': width,\n",
    "    'height': height,\n",
    "    'category_id': mapping[category_id]\n",
    "  })"
   ]
  },
  {
   "cell_type": "code",
   "execution_count": 12,
   "metadata": {},
   "outputs": [
    {
     "data": {
      "text/plain": [
       "{'name': '0000001.jpg',\n",
       " 'height': 1080,\n",
       " 'width': 1920,\n",
       " 'annotations': [{'xcenter': 0.18541666666666667,\n",
       "   'ycenter': 0.30833333333333335,\n",
       "   'width': 0.05416666666666667,\n",
       "   'height': 0.07037037037037037,\n",
       "   'category_id': 49},\n",
       "  {'xcenter': 0.028645833333333332,\n",
       "   'ycenter': 0.2851851851851852,\n",
       "   'width': 0.026041666666666668,\n",
       "   'height': 0.06296296296296296,\n",
       "   'category_id': 47},\n",
       "  {'xcenter': 0.18255208333333334,\n",
       "   'ycenter': 0.15,\n",
       "   'width': 0.05260416666666667,\n",
       "   'height': 0.13333333333333333,\n",
       "   'category_id': 20}]}"
      ]
     },
     "execution_count": 12,
     "metadata": {},
     "output_type": "execute_result"
    }
   ],
   "source": [
    "annotations_dict[0]"
   ]
  },
  {
   "cell_type": "code",
   "execution_count": 13,
   "metadata": {},
   "outputs": [
    {
     "data": {
      "text/plain": [
       "{0: 0,\n",
       " 1: 1,\n",
       " 2: 2,\n",
       " 6: 3,\n",
       " 12: 4,\n",
       " 13: 5,\n",
       " 22: 6,\n",
       " 28: 7,\n",
       " 29: 8,\n",
       " 30: 9,\n",
       " 35: 10,\n",
       " 37: 11,\n",
       " 43: 12,\n",
       " 50: 13,\n",
       " 51: 14,\n",
       " 52: 15,\n",
       " 53: 16,\n",
       " 54: 17,\n",
       " 55: 18,\n",
       " 56: 19,\n",
       " 59: 20,\n",
       " 60: 21,\n",
       " 62: 22,\n",
       " 64: 23,\n",
       " 68: 24,\n",
       " 69: 25,\n",
       " 70: 26,\n",
       " 71: 27,\n",
       " 72: 28,\n",
       " 73: 29,\n",
       " 74: 30,\n",
       " 75: 31,\n",
       " 76: 32,\n",
       " 103: 33,\n",
       " 104: 34,\n",
       " 105: 35,\n",
       " 106: 36,\n",
       " 107: 37,\n",
       " 112: 38,\n",
       " 116: 39,\n",
       " 117: 40,\n",
       " 118: 41,\n",
       " 119: 42,\n",
       " 120: 43,\n",
       " 123: 44,\n",
       " 132: 45,\n",
       " 135: 46,\n",
       " 136: 47,\n",
       " 157: 48,\n",
       " 158: 49,\n",
       " 159: 50,\n",
       " 160: 51}"
      ]
     },
     "execution_count": 13,
     "metadata": {},
     "output_type": "execute_result"
    }
   ],
   "source": [
    "mapping"
   ]
  },
  {
   "cell_type": "code",
   "execution_count": 14,
   "metadata": {},
   "outputs": [],
   "source": [
    "inverse_mapping = {value:key for key, value in mapping.items()}"
   ]
  },
  {
   "cell_type": "markdown",
   "metadata": {},
   "source": [
    "Build annotation dict for test set:"
   ]
  },
  {
   "cell_type": "code",
   "execution_count": 15,
   "metadata": {},
   "outputs": [
    {
     "name": "stderr",
     "output_type": "stream",
     "text": [
      "100%|██████████| 4393/4393 [00:00<00:00, 549033.89it/s]\n"
     ]
    }
   ],
   "source": [
    "for annotation in tqdm(test_json['annotations']):\n",
    "  image_id = annotation['image_id']\n",
    "  category_id = annotation['category_id']\n",
    "  if category_id not in final:\n",
    "    continue\n",
    "  im_width, im_height = annotations_dict[image_id]['width'], annotations_dict[image_id]['height']\n",
    "  xmin, ymin, width, height = annotation[\"bbox\"]\n",
    "  xcenter, ycenter, width, height = xmin + width/2, ymin + height/2, width, height\n",
    "  xcenter, ycenter, width, height = xcenter / im_width, ycenter / im_height, width / im_width, height / im_height\n",
    "  annotations_dict[image_id]['annotations'].append({\n",
    "    'xcenter': xcenter,\n",
    "    'ycenter': ycenter,\n",
    "    'width': width,\n",
    "    'height': height,\n",
    "    'category_id': mapping[category_id]\n",
    "  })"
   ]
  },
  {
   "cell_type": "code",
   "execution_count": 16,
   "metadata": {},
   "outputs": [
    {
     "data": {
      "text/plain": [
       "{'name': '0000002.jpg',\n",
       " 'height': 1080,\n",
       " 'width': 1920,\n",
       " 'annotations': [{'xcenter': 0.16302083333333334,\n",
       "   'ycenter': 0.45416666666666666,\n",
       "   'width': 0.0375,\n",
       "   'height': 0.06759259259259259,\n",
       "   'category_id': 30},\n",
       "  {'xcenter': 0.7575520833333333,\n",
       "   'ycenter': 0.21203703703703702,\n",
       "   'width': 0.027604166666666666,\n",
       "   'height': 0.03888888888888889,\n",
       "   'category_id': 11}]}"
      ]
     },
     "execution_count": 16,
     "metadata": {},
     "output_type": "execute_result"
    }
   ],
   "source": [
    "annotations_dict[1]"
   ]
  },
  {
   "cell_type": "markdown",
   "metadata": {},
   "source": [
    "Save a .txt file for each image with its annotations:"
   ]
  },
  {
   "cell_type": "code",
   "execution_count": 17,
   "metadata": {},
   "outputs": [],
   "source": [
    "for image_index, image_data in annotations_dict.items():\n",
    "  name = image_data['name'][:-4]\n",
    "  yolo_format = ''\n",
    "  if len(image_data['annotations']) == 0:\n",
    "    continue\n",
    "  for annotation in image_data['annotations']:\n",
    "    xcenter, ycenter, width, height, category_id = annotation.values()\n",
    "    yolo_format += f'{category_id} {xcenter} {ycenter} {width} {height}\\n'\n",
    "  with open(f'dataset/JPEGImages/labels/{name}.txt', 'w') as file:\n",
    "    file.write(yolo_format)"
   ]
  },
  {
   "cell_type": "code",
   "execution_count": null,
   "metadata": {},
   "outputs": [],
   "source": []
  }
 ],
 "metadata": {
  "kernelspec": {
   "display_name": "Python 3.9.16 ('lv')",
   "language": "python",
   "name": "python3"
  },
  "language_info": {
   "codemirror_mode": {
    "name": "ipython",
    "version": 3
   },
   "file_extension": ".py",
   "mimetype": "text/x-python",
   "name": "python",
   "nbconvert_exporter": "python",
   "pygments_lexer": "ipython3",
   "version": "3.10.11"
  },
  "orig_nbformat": 4,
  "vscode": {
   "interpreter": {
    "hash": "48356fca9c36f057f2d259c6a18ff04a3ef8857bc2f99a9a5973dc0c4d1527b3"
   }
  }
 },
 "nbformat": 4,
 "nbformat_minor": 2
}
