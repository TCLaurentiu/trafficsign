{
 "cells": [
  {
   "cell_type": "markdown",
   "metadata": {},
   "source": [
    "# Dataset Relabelling"
   ]
  },
  {
   "cell_type": "markdown",
   "metadata": {},
   "source": [
    "The dataset has been labeled with names such as **X-20.1**. We have to change these labels to human understandable labels. This notebook loads one image from each class to help with dataset relabelling."
   ]
  },
  {
   "cell_type": "code",
   "execution_count": 1,
   "metadata": {},
   "outputs": [],
   "source": [
    "import os, json\n",
    "import numpy as np\n",
    "import matplotlib.pyplot as plt\n",
    "from PIL import Image"
   ]
  },
  {
   "cell_type": "code",
   "execution_count": 2,
   "metadata": {},
   "outputs": [],
   "source": [
    "with open(\"labels.json\") as file:\n",
    "  label_data = json.load(file)"
   ]
  },
  {
   "cell_type": "code",
   "execution_count": 3,
   "metadata": {},
   "outputs": [],
   "source": [
    "final = {0: 'Curve Left',\n",
    " 1: 'Curve Right',\n",
    " 2: 'Speed Bump',\n",
    " 6: 'Pedestrian Crossing Soon',\n",
    " 12: 'Left - Right Curve',\n",
    " 13: 'Right - Left Curve',\n",
    " 22: 'Roundabout Soon',\n",
    " 28: '50m - Railroad',\n",
    " 29: '100m - Railroad',\n",
    " 30: '150m - Railroad',\n",
    " 35: 'Bumpy Road',\n",
    " 37: 'Yield',\n",
    " 43: 'STOP',\n",
    " 50: 'Forbidden For Everything',\n",
    " 51: 'Speed Limit - 10',\n",
    " 52: 'Speed Limit - 30',\n",
    " 53: 'Speed Limit - 40',\n",
    " 54: 'Speed Limit - 50',\n",
    " 55: 'Speed Limit - 60',\n",
    " 56: 'Speed Limit - 70',\n",
    " 59: 'No parking/waiting',\n",
    " 60: 'No stopping',\n",
    " 62: 'No entry',\n",
    " 64: 'Pedestrian Path',\n",
    " 68: 'Proceed Straight',\n",
    " 69: 'Turn Right',\n",
    " 70: 'Turn Left',\n",
    " 71: 'Keep straight or Turn Left',\n",
    " 72: 'Keep Straight or Turn Right',\n",
    " 73: 'Turn Left or Right',\n",
    " 74: 'Pass onto Right',\n",
    " 75: 'Pass Onto Left',\n",
    " 76: 'Roundabout Here',\n",
    " 103: 'End Of No - Overtake',\n",
    " 104: 'End of 40 Limit',\n",
    " 105: 'End of 50 Limit',\n",
    " 106: 'End of 60 Limit',\n",
    " 107: 'End of 70 Limit',\n",
    " 112: 'End of All Restrictions',\n",
    " 116: 'No Stopping Zone',\n",
    " 117: '30km Limit Zone',\n",
    " 118: '40km Limit Zone',\n",
    " 119: 'Priority Road',\n",
    " 120: 'End of 30km Limit Zone',\n",
    " 123: 'Parking',\n",
    " 132: 'Bicycle Crossing',\n",
    " 135: 'Info',\n",
    " 136: 'Pedestrian Crossing',\n",
    " 157: 'Disabilities',\n",
    " 158: 'Towing',\n",
    " 159: 'Rain',\n",
    " 160: 'Snow'}"
   ]
  },
  {
   "cell_type": "code",
   "execution_count": 4,
   "metadata": {},
   "outputs": [],
   "source": [
    "class_count = len(label_data)"
   ]
  },
  {
   "cell_type": "code",
   "execution_count": 5,
   "metadata": {},
   "outputs": [
    {
     "data": {
      "text/plain": [
       "{'id': 0, 'name': 'I-1', 'supercategory': 'traffic_sign'}"
      ]
     },
     "execution_count": 5,
     "metadata": {},
     "output_type": "execute_result"
    }
   ],
   "source": [
    "label_data[0]"
   ]
  },
  {
   "cell_type": "code",
   "execution_count": null,
   "metadata": {},
   "outputs": [],
   "source": [
    "label_id = 0\n",
    "while label_id < class_count:\n",
    "  if final.get(label_id) is None:\n",
    "    label_id += 1\n",
    "    continue\n",
    "  label = label_data[label_id]\n",
    "  name = label[\"name\"]\n",
    "  images = os.listdir(f'DFG-tsd-category-info/{name}')\n",
    "  image = images[np.random.randint(0, len(images))]\n",
    "  plt.imshow(Image.open(f'DFG-tsd-category-info/{name}/{image}'))\n",
    "  plt.show()\n",
    "  print(f'{final[label_id]}:DFG-tsd-category-info/{name}/{image}')\n",
    "  name = input()\n",
    "  if name.lower() == \"\":\n",
    "    label_id += 1\n",
    "    continue\n",
    "  if name.lower() == \"pic\":\n",
    "    continue\n",
    "  \n",
    "  label_id += 1\n",
    "  plt.clf()"
   ]
  },
  {
   "cell_type": "code",
   "execution_count": 26,
   "metadata": {},
   "outputs": [
    {
     "data": {
      "text/plain": [
       "{0: 'Curve Left',\n",
       " 1: 'Curve Right',\n",
       " 2: 'Speed Bump',\n",
       " 6: 'Pedestrian Crossing Soon',\n",
       " 12: 'Left - Right Curve',\n",
       " 13: 'Right - Left Curve',\n",
       " 22: 'Roundabout Soon',\n",
       " 28: '50m - Railroad',\n",
       " 29: '100m - Railroad',\n",
       " 30: '150m - Railroad',\n",
       " 35: 'Bumpy Road',\n",
       " 37: 'Yield',\n",
       " 43: 'STOP',\n",
       " 50: 'Forbidden For Everything',\n",
       " 51: 'Speed Limit - 10',\n",
       " 52: 'Speed Limit - 30',\n",
       " 53: 'Speed Limit - 40',\n",
       " 54: 'Speed Limit - 50',\n",
       " 55: 'Speed Limit - 60',\n",
       " 56: 'Speed Limit - 70',\n",
       " 59: 'No parking/waiting',\n",
       " 60: 'No stopping',\n",
       " 62: 'No entry',\n",
       " 64: 'Pedestrian Path',\n",
       " 68: 'Proceed Straight',\n",
       " 69: 'Turn Right',\n",
       " 70: 'Turn Left',\n",
       " 71: 'Keep straight or Turn Left',\n",
       " 72: 'Keep Straight or Turn Right',\n",
       " 73: 'Turn Left or Right',\n",
       " 74: 'Pass onto Right',\n",
       " 75: 'Pass Onto Left',\n",
       " 76: 'Roundabout Here',\n",
       " 103: 'End Of No - Overtake',\n",
       " 104: 'End of 40 Limit',\n",
       " 105: 'End of 50 Limit',\n",
       " 106: 'End of 60 Limit',\n",
       " 107: 'End of 70 Limit',\n",
       " 112: 'End of All Restrictions',\n",
       " 116: 'No Stopping Zone',\n",
       " 117: '30km Limit Zone',\n",
       " 118: '40km Limit Zone',\n",
       " 119: 'Priority Road',\n",
       " 120: 'End of 30km Limit Zone',\n",
       " 123: 'Parking',\n",
       " 132: 'Bicycle Crossing',\n",
       " 135: 'Info',\n",
       " 136: 'Pedestrian Crossing',\n",
       " 157: 'Disabilities',\n",
       " 158: 'Towing',\n",
       " 159: 'Rain',\n",
       " 160: 'Snow'}"
      ]
     },
     "execution_count": 26,
     "metadata": {},
     "output_type": "execute_result"
    }
   ],
   "source": [
    "final_labels"
   ]
  },
  {
   "cell_type": "code",
   "execution_count": 27,
   "metadata": {},
   "outputs": [],
   "source": [
    "final = {0: 'Curve Left',\n",
    " 1: 'Curve Right',\n",
    " 2: 'Speed Bump',\n",
    " 6: 'Pedestrian Crossing Soon',\n",
    " 12: 'Left - Right Curve',\n",
    " 13: 'Right - Left Curve',\n",
    " 22: 'Roundabout Soon',\n",
    " 28: '50m - Railroad',\n",
    " 29: '100m - Railroad',\n",
    " 30: '150m - Railroad',\n",
    " 35: 'Bumpy Road',\n",
    " 37: 'Yield',\n",
    " 43: 'STOP',\n",
    " 50: 'Forbidden For Everything',\n",
    " 51: 'Speed Limit - 10',\n",
    " 52: 'Speed Limit - 30',\n",
    " 53: 'Speed Limit - 40',\n",
    " 54: 'Speed Limit - 50',\n",
    " 55: 'Speed Limit - 60',\n",
    " 56: 'Speed Limit - 70',\n",
    " 59: 'No parking/waiting',\n",
    " 60: 'No stopping',\n",
    " 62: 'No entry',\n",
    " 64: 'Pedestrian Path',\n",
    " 68: 'Proceed Straight',\n",
    " 69: 'Turn Right',\n",
    " 70: 'Turn Left',\n",
    " 71: 'Keep straight or Turn Left',\n",
    " 72: 'Keep Straight or Turn Right',\n",
    " 73: 'Turn Left or Right',\n",
    " 74: 'Pass onto Right',\n",
    " 75: 'Pass Onto Left',\n",
    " 76: 'Roundabout Here',\n",
    " 103: 'End Of No - Overtake',\n",
    " 104: 'End of 40 Limit',\n",
    " 105: 'End of 50 Limit',\n",
    " 106: 'End of 60 Limit',\n",
    " 107: 'End of 70 Limit',\n",
    " 112: 'End of All Restrictions',\n",
    " 116: 'No Stopping Zone',\n",
    " 117: '30km Limit Zone',\n",
    " 118: '40km Limit Zone',\n",
    " 119: 'Priority Road',\n",
    " 120: 'End of 30km Limit Zone',\n",
    " 123: 'Parking',\n",
    " 132: 'Bicycle Crossing',\n",
    " 135: 'Info',\n",
    " 136: 'Pedestrian Crossing',\n",
    " 157: 'Disabilities',\n",
    " 158: 'Towing',\n",
    " 159: 'Rain',\n",
    " 160: 'Snow'}"
   ]
  },
  {
   "cell_type": "code",
   "execution_count": 28,
   "metadata": {},
   "outputs": [
    {
     "data": {
      "text/plain": [
       "53"
      ]
     },
     "execution_count": 28,
     "metadata": {},
     "output_type": "execute_result"
    }
   ],
   "source": [
    "len(final)"
   ]
  },
  {
   "cell_type": "code",
   "execution_count": null,
   "metadata": {},
   "outputs": [],
   "source": []
  }
 ],
 "metadata": {
  "kernelspec": {
   "display_name": "Python 3.9.16 ('lv')",
   "language": "python",
   "name": "python3"
  },
  "language_info": {
   "codemirror_mode": {
    "name": "ipython",
    "version": 3
   },
   "file_extension": ".py",
   "mimetype": "text/x-python",
   "name": "python",
   "nbconvert_exporter": "python",
   "pygments_lexer": "ipython3",
   "version": "3.10.11"
  },
  "orig_nbformat": 4,
  "vscode": {
   "interpreter": {
    "hash": "48356fca9c36f057f2d259c6a18ff04a3ef8857bc2f99a9a5973dc0c4d1527b3"
   }
  }
 },
 "nbformat": 4,
 "nbformat_minor": 2
}
